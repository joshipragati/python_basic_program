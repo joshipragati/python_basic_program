{
 "cells": [
  {
   "cell_type": "code",
   "execution_count": 20,
   "metadata": {},
   "outputs": [
    {
     "name": "stdout",
     "output_type": "stream",
     "text": [
      "<class 'int'>\n",
      "10\n",
      "<class 'float'>\n",
      "12.5\n"
     ]
    },
    {
     "data": {
      "text/plain": [
       "False"
      ]
     },
     "execution_count": 20,
     "metadata": {},
     "output_type": "execute_result"
    }
   ],
   "source": [
    "int_var=10\n",
    "print(type(int_var))\n",
    "print(int_var) \n",
    "float_var=12.5\n",
    "print(type(float_var))\n",
    "print(float_var)\n",
    "\n",
    "#type conversion\n",
    "\n",
    "int(float_var)\n",
    "float(int_var)\n",
    "\n",
    "#string\n",
    "str1=\"datascience\"\n",
    "\n",
    "#Indexing\n",
    "str1[3]\n",
    "\n",
    "#length of string\n",
    "len(str1)\n",
    "\n",
    "#string with inbuild function\n",
    "str1.isnumeric()\n",
    "\n",
    "\n",
    "\n",
    "\n"
   ]
  },
  {
   "cell_type": "code",
   "execution_count": 51,
   "metadata": {},
   "outputs": [
    {
     "name": "stdout",
     "output_type": "stream",
     "text": [
      "[1, 'pragati', 30.89, 1]\n",
      "{'pragati', 1, 30.89}\n"
     ]
    }
   ],
   "source": [
    "#list\n",
    "list1=[1,\"pragati\",30.89]\n",
    "list1\n",
    "#list1.append([10,11])\n",
    "#print(list1)\n",
    "#list1.extend([2,8])\n",
    "#list1[3][1]\n",
    "list1.append(1)\n",
    "print(list1)\n",
    "\n",
    "#convert in to set\n",
    "set1=set(list1)\n",
    "print(set1)\n",
    "\n",
    "\n"
   ]
  },
  {
   "cell_type": "code",
   "execution_count": 60,
   "metadata": {},
   "outputs": [
    {
     "name": "stdout",
     "output_type": "stream",
     "text": [
      "(1, 2, 80.9)\n"
     ]
    },
    {
     "data": {
      "text/plain": [
       "1"
      ]
     },
     "execution_count": 60,
     "metadata": {},
     "output_type": "execute_result"
    }
   ],
   "source": [
    "#tuple\n",
    "tuple_var=(1,2,80.90)\n",
    "tuple_var1=(4,5,9.0)\n",
    "print(tuple_var)\n",
    "\n",
    "#tuple length\n",
    "len(tuple_var)\n",
    "\n",
    "#Append tuple\n",
    "tuple3=tuple_var+tuple_var1\n",
    "tuple3\n",
    "\n",
    "(tuple_var)*3\n",
    "\n",
    "3 in(tuple_var)\n",
    "\n",
    "max(tuple_var)\n",
    "min(tuple_var)"
   ]
  },
  {
   "cell_type": "code",
   "execution_count": 63,
   "metadata": {},
   "outputs": [
    {
     "name": "stdout",
     "output_type": "stream",
     "text": [
      "(1, 2, 3, 4, 1)\n",
      "[1, 2, 3, 4, 1]\n",
      "{1, 2, 3, 4}\n"
     ]
    }
   ],
   "source": [
    "#convert list into tuple\n",
    "list2=[1,2,3,4,1]\n",
    "tuple_list= tuple(list2)\n",
    "print(tuple_list)\n",
    "\n",
    "#convert tuple into list\n",
    "list3=list(tuple_list)\n",
    "print(list3)\n",
    "\n",
    "#convert tuple into set\n",
    "set_var=set(tuple_list)\n",
    "print(set_var)"
   ]
  },
  {
   "cell_type": "code",
   "execution_count": 64,
   "metadata": {},
   "outputs": [
    {
     "name": "stdout",
     "output_type": "stream",
     "text": [
      "hello\n"
     ]
    }
   ],
   "source": [
    "result=6\n",
    "if(result>7):\n",
    "    print(\"hii\")\n",
    "else:\n",
    "    print(\"hello\")\n"
   ]
  },
  {
   "cell_type": "code",
   "execution_count": 66,
   "metadata": {},
   "outputs": [
    {
     "name": "stdout",
     "output_type": "stream",
     "text": [
      "Dist\n"
     ]
    }
   ],
   "source": [
    "percentage=80\n",
    "if(percentage>40 and percentage<=55):\n",
    "    print(\"second class\")\n",
    "elif(percentage>=56 and percentage<=70):\n",
    "    print(\"first class\")\n",
    "elif(percentage>=71 and percentage<=100):\n",
    "    print(\"Dist\")\n",
    "else:\n",
    "    print(\"fail\")"
   ]
  },
  {
   "cell_type": "code",
   "execution_count": null,
   "metadata": {},
   "outputs": [],
   "source": []
  }
 ],
 "metadata": {
  "kernelspec": {
   "display_name": "Python 3",
   "language": "python",
   "name": "python3"
  },
  "language_info": {
   "codemirror_mode": {
    "name": "ipython",
    "version": 3
   },
   "file_extension": ".py",
   "mimetype": "text/x-python",
   "name": "python",
   "nbconvert_exporter": "python",
   "pygments_lexer": "ipython3",
   "version": "3.8.3"
  }
 },
 "nbformat": 4,
 "nbformat_minor": 4
}
